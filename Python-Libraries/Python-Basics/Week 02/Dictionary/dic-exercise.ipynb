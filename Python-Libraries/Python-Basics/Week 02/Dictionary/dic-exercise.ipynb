{
 "cells": [
  {
   "cell_type": "markdown",
   "metadata": {},
   "source": [
    "# 1\n",
    "Create a list of your friends' names and now create a list of tuples. The tuple should contain the friend’s name and the length of the name. For Example: if someone’s name is Aditya, the tuple would be: (‘Aditya’, 6)"
   ]
  },
  {
   "cell_type": "code",
   "execution_count": 4,
   "metadata": {},
   "outputs": [
    {
     "name": "stdout",
     "output_type": "stream",
     "text": [
      "5\n"
     ]
    }
   ],
   "source": [
    "friend_list = [('Jahid', 5), ('Shihab', 6), ('aminul', 6), ('Niloy', 5)]\n",
    "for name in friend_list:\n",
    "    if name[0]=='Niloy':\n",
    "        print(name[1])\n"
   ]
  },
  {
   "cell_type": "markdown",
   "metadata": {},
   "source": [
    "2. You and your wife argued about expenses last night. You both want to know who is spending more in a month. Now you both go to the Little Yoda he is a good python programmer. He suggested that both of you add an entry in a dictionary next time you spend money. So that you can have a clear picture of your expenses and plan to reduce them. Both dictionaries are as below-\n",
    "Your expenses -\n",
    "\n",
    "Clothes - 1100\n",
    "Shoes - 1000\n",
    "Watch - 900\n",
    "Mobile Recharge - 699\n",
    "Petrol - 1980\n",
    "Your Wife’s expenses -\n",
    "\n",
    "Mobile Recharge - 799\n",
    "DTH recharge - 999\n",
    "Clothes - 2310\n",
    "Makeup - 3670\n",
    "Shoes - 999\n",
    "Find out the total expenses for each of you.\n",
    "Find out who spending more\n",
    "Find out which thing you and your wife spending more"
   ]
  },
  {
   "cell_type": "code",
   "execution_count": 13,
   "metadata": {},
   "outputs": [
    {
     "name": "stdout",
     "output_type": "stream",
     "text": [
      "Myself cost and wife cost: 5679, 8777\n",
      "Max cost in:  Makeup\n"
     ]
    }
   ],
   "source": [
    "myself = {\n",
    "    'Coloth' : 1100,\n",
    "    'Shoes' : 1000,\n",
    "    'Watch' : 900,\n",
    "    'Mobile Recharge' : 699,\n",
    "    'Petrol' : 1980\n",
    "}\n",
    "\n",
    "wife = {\n",
    "    'Coloth' : 2310,\n",
    "    'Shoes' : 999,\n",
    "    'Makeup' : 3670,\n",
    "    'Mobile Recharge' : 799,\n",
    "    'DTH recharge' : 999\n",
    "}\n",
    "\n",
    "\n",
    "\n",
    "sum_m =0 \n",
    "sum_w=0\n",
    "for expence in myself:\n",
    "    sum_m += myself[expence]\n",
    "\n",
    "\n",
    "for expence_w in wife:\n",
    "    sum_w += wife[expence_w]\n",
    "\n",
    "print(f\"Myself cost and wife cost: {sum_m}, {sum_w}\")\n",
    "\n",
    "max_cost_wife = max(zip(wife.values(), wife.keys()))[1]\n",
    "print('Max cost in: ', max_cost_wife)\n",
    " "
   ]
  },
  {
   "cell_type": "code",
   "execution_count": null,
   "metadata": {},
   "outputs": [],
   "source": []
  }
 ],
 "metadata": {
  "kernelspec": {
   "display_name": "base",
   "language": "python",
   "name": "python3"
  },
  "language_info": {
   "codemirror_mode": {
    "name": "ipython",
    "version": 3
   },
   "file_extension": ".py",
   "mimetype": "text/x-python",
   "name": "python",
   "nbconvert_exporter": "python",
   "pygments_lexer": "ipython3",
   "version": "3.11.5"
  }
 },
 "nbformat": 4,
 "nbformat_minor": 2
}
